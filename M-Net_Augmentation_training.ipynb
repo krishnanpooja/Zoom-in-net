{
  "nbformat": 4,
  "nbformat_minor": 0,
  "metadata": {
    "colab": {
      "name": "Augmentation_training.ipynb",
      "version": "0.3.2",
      "provenance": [],
      "collapsed_sections": []
    },
    "kernelspec": {
      "name": "python3",
      "display_name": "Python 3"
    },
    "accelerator": "GPU"
  },
  "cells": [
    {
      "metadata": {
        "id": "aR8JpDpdQ9Lc",
        "colab_type": "text"
      },
      "cell_type": "markdown",
      "source": [
        "# Augmentation"
      ]
    },
    {
      "metadata": {
        "id": "l9luiN3QOq-c",
        "colab_type": "code",
        "colab": {}
      },
      "cell_type": "code",
      "source": [
        "import random\n",
        "import numpy as np\n",
        "from imgaug import augmenters as ia\n",
        "from matplotlib.image import imread\n",
        "import matplotlib.pyplot as plt\n",
        "import pandas as pd\n",
        "from IPython import display"
      ],
      "execution_count": 0,
      "outputs": []
    },
    {
      "metadata": {
        "id": "ZpjMxs-bO-8p",
        "colab_type": "code",
        "colab": {}
      },
      "cell_type": "code",
      "source": [
        "class DataAugmentation:\n",
        "    def __init__(self):\n",
        "        print('DataAugmentation')\n",
        "    \n",
        "        \n",
        "    def augment(self, images):\n",
        "        rand_val=random.randint(0,360)\n",
        "        print('Rotated randomly at',rand_val)\n",
        "        images_aug_afffine =ia.Affine(rotate=rand_val,cval=(128, 128)).augment_image(images) # randomly rotates between 0 to 360 ??180??\n",
        "        ##!!!!!!!!!!!!!!!!!! during flip the black parts need to be set 128 !!!!!!!!!!!!!!!!!!!!!!\n",
        "#         plt.title('Rotation')\n",
        "#         fig.add_subplot(50,50,2)\n",
        "#         plt.imshow(images_aug_afffine)\n",
        "        images_aug_flip =ia.Fliplr(1.0).augment_image(images) # horizontally flip all of the images\n",
        "#         plt.title('Flip')\n",
        "#         fig.add_subplot(50,50,3)\n",
        "#         plt.imshow(images_aug_flip)\n",
        "        images_aug_scale = ia.Scale(1.0).augment_image(images) # scales all images to 90 percent of their original size.\n",
        "#         plt.title('Scale')\n",
        "#         fig.add_subplot(50,50,4)\n",
        "#         plt.imshow(images_aug_scale)\n",
        "        return (images,images_aug_afffine,images_aug_scale,images_aug_flip)"
      ],
      "execution_count": 0,
      "outputs": []
    },
    {
      "metadata": {
        "id": "YERfG8-gPZ0c",
        "colab_type": "code",
        "outputId": "8e82e40a-dcfb-42b6-e612-06aa3fcbfb00",
        "colab": {
          "base_uri": "https://localhost:8080/",
          "height": 171
        }
      },
      "cell_type": "code",
      "source": [
        "from google.colab import drive\n",
        "drive.mount('/content/gdrive')"
      ],
      "execution_count": 8,
      "outputs": [
        {
          "output_type": "stream",
          "text": [
            "Go to this URL in a browser: https://accounts.google.com/o/oauth2/auth?client_id=947318989803-6bn6qk8qdgf4n4g3pfee6491hc0brc4i.apps.googleusercontent.com&redirect_uri=urn%3Aietf%3Awg%3Aoauth%3A2.0%3Aoob&scope=email%20https%3A%2F%2Fwww.googleapis.com%2Fauth%2Fdocs.test%20https%3A%2F%2Fwww.googleapis.com%2Fauth%2Fdrive%20https%3A%2F%2Fwww.googleapis.com%2Fauth%2Fdrive.photos.readonly%20https%3A%2F%2Fwww.googleapis.com%2Fauth%2Fpeopleapi.readonly&response_type=code\n",
            "\n",
            "Enter your authorization code:\n",
            "··········\n",
            "Mounted at /content/gdrive\n"
          ],
          "name": "stdout"
        }
      ]
    },
    {
      "metadata": {
        "id": "SO-uSepoQL3T",
        "colab_type": "code",
        "colab": {}
      },
      "cell_type": "code",
      "source": [
        "# augmented_list = []"
      ],
      "execution_count": 0,
      "outputs": []
    },
    {
      "metadata": {
        "id": "LKb2T4oOPGN8",
        "colab_type": "code",
        "colab": {}
      },
      "cell_type": "code",
      "source": [
        "# obj_augmentation = DataAugmentation()\n",
        "\n",
        "# for f in (glob.glob(\"/content/gdrive/My Drive/MLMI_100imgs/*.npy\")):\n",
        "#   image = np.load(f)\n",
        "#   fig=plt.figure(figsize=(200, 200))\n",
        "#   fig.add_subplot(50,50,1)\n",
        "#   plt.imshow(image)\n",
        "#   plt.title('Original')\n",
        "#   obj_augmentation.augment(image)\n",
        "#   plt.show()\n",
        "#   augmented_list.append(image)"
      ],
      "execution_count": 0,
      "outputs": []
    },
    {
      "metadata": {
        "id": "7ggUgsMnKUMU",
        "colab_type": "code",
        "colab": {}
      },
      "cell_type": "code",
      "source": [
        "# ! pip install imgaug"
      ],
      "execution_count": 0,
      "outputs": []
    },
    {
      "metadata": {
        "id": "n558HQm-Q5mw",
        "colab_type": "text"
      },
      "cell_type": "markdown",
      "source": [
        "#Training"
      ]
    },
    {
      "metadata": {
        "id": "-FzV7r1cQ8d4",
        "colab_type": "code",
        "colab": {}
      },
      "cell_type": "code",
      "source": [
        "import tensorflow.contrib.slim as slim\n",
        "import tensorflow as tf\n",
        "import sys\n",
        "import os\n",
        "import glob"
      ],
      "execution_count": 0,
      "outputs": []
    },
    {
      "metadata": {
        "id": "JDbI1iGEU5bn",
        "colab_type": "code",
        "colab": {}
      },
      "cell_type": "code",
      "source": [
        "sys.path.append(\"/models/research/slim\")"
      ],
      "execution_count": 0,
      "outputs": []
    },
    {
      "metadata": {
        "id": "i0JNrt6RRDl4",
        "colab_type": "code",
        "outputId": "0bc5e61f-2f9c-4968-970c-6e505855bc4f",
        "colab": {
          "base_uri": "https://localhost:8080/",
          "height": 74
        }
      },
      "cell_type": "code",
      "source": [
        "print(sys.path)"
      ],
      "execution_count": 14,
      "outputs": [
        {
          "output_type": "stream",
          "text": [
            "['', '/env/python', '/usr/lib/python36.zip', '/usr/lib/python3.6', '/usr/lib/python3.6/lib-dynload', '/usr/local/lib/python3.6/dist-packages', '/usr/lib/python3/dist-packages', '/usr/local/lib/python3.6/dist-packages/IPython/extensions', '/root/.ipython', '/models/research/slim']\n"
          ],
          "name": "stdout"
        }
      ]
    },
    {
      "metadata": {
        "id": "E48A9VC8VxD5",
        "colab_type": "text"
      },
      "cell_type": "markdown",
      "source": [
        "### To install slim\n",
        "\n",
        "```\n",
        "!CHECKPOINT_DIR=/tmp/checkpoints\n",
        "!mkdir ${CHECKPOINT_DIR}\n",
        "!wget http://download.tensorflow.org/models/inception_resnet_v2_2016_08_30.tar.gz\n",
        "!tar -xvf inception_resnet_v2_2016_08_30.tar.gz\n",
        "!mv inception_resnet_v2_2016_08_30.ckpt ${CHECKPOINT_DIR}\n",
        "!rm inception_resnet_v2_2016_08_30.tar.gz\n",
        "```"
      ]
    },
    {
      "metadata": {
        "id": "odfQ5HZE5_Kg",
        "colab_type": "code",
        "colab": {}
      },
      "cell_type": "code",
      "source": [
        "# !CHECKPOINT_DIR=/tmp/checkpoints\n",
        "# !mkdir ${CHECKPOINT_DIR}\n",
        "# !wget http://download.tensorflow.org/models/inception_resnet_v2_2016_08_30.tar.gz\n",
        "# !tar -xvf inception_resnet_v2_2016_08_30.tar.gz\n",
        "# !mv inception_resnet_v2_2016_08_30.ckpt ${CHECKPOINT_DIR}\n",
        "# !rm inception_resnet_v2_2016_08_30.tar.gz"
      ],
      "execution_count": 0,
      "outputs": []
    },
    {
      "metadata": {
        "id": "LkvroIUp5_rw",
        "colab_type": "code",
        "colab": {}
      },
      "cell_type": "code",
      "source": [
        "# !git clone https://github.com/tensorflow/models/"
      ],
      "execution_count": 0,
      "outputs": []
    },
    {
      "metadata": {
        "id": "Kqa0RiAxRlp1",
        "colab_type": "code",
        "colab": {}
      },
      "cell_type": "code",
      "source": [
        "from models.research.slim.nets.inception_resnet_v2 import inception_resnet_v2, inception_resnet_v2_base, inception_resnet_v2_arg_scope"
      ],
      "execution_count": 0,
      "outputs": []
    },
    {
      "metadata": {
        "id": "uO1XYC75UV7g",
        "colab_type": "code",
        "colab": {}
      },
      "cell_type": "code",
      "source": [
        "# img = np.load(\"/content/gdrive/My Drive/MLMI_100imgs/10_left_preprocessed.npy\")\n",
        "# img_tensor = tf.convert_to_tensor(img, dtype=tf.float32)\n",
        "# img_tensor = tf.reshape(img_tensor, [1, 512, 512, 3])"
      ],
      "execution_count": 0,
      "outputs": []
    },
    {
      "metadata": {
        "id": "E-q_rSU6WPg7",
        "colab_type": "code",
        "colab": {}
      },
      "cell_type": "code",
      "source": [
        "# img_tensor"
      ],
      "execution_count": 0,
      "outputs": []
    },
    {
      "metadata": {
        "id": "CQg6IAslWSGt",
        "colab_type": "code",
        "colab": {}
      },
      "cell_type": "code",
      "source": [
        "# with slim.arg_scope(inception_resnet_v2_arg_scope()):\n",
        "#      logits, end_points = inception_resnet_v2_base(img_tensor)"
      ],
      "execution_count": 0,
      "outputs": []
    },
    {
      "metadata": {
        "id": "DJHdQ9GSWYIT",
        "colab_type": "code",
        "colab": {}
      },
      "cell_type": "code",
      "source": [
        "# logits"
      ],
      "execution_count": 0,
      "outputs": []
    },
    {
      "metadata": {
        "id": "Rr9Eo1UyWdNv",
        "colab_type": "code",
        "colab": {}
      },
      "cell_type": "code",
      "source": [
        "# # Reading the dataset\n",
        "# # 2 modes: 'file' or 'folder'\n",
        "# def read_images(dataset_path, mode, batch_size):\n",
        "#   augmented_list = []\n",
        "#   labels = []\n",
        "    \n",
        "#   for f in (glob.glob(\"/content/gdrive/My Drive/MLMI_100imgs/*.npy\")): \n",
        "    \n",
        "#     image = np.load(f)\n",
        "#     fig=plt.figure(figsize=(200, 200))\n",
        "#     fig.add_subplot(50,50,1)\n",
        "#     plt.imshow(image)\n",
        "#     plt.title('Original')\n",
        "#     obj_augmentation.augment(image)\n",
        "#     plt.show()\n",
        "    \n",
        "#     img_tensor = tf.convert_to_tensor(img, dtype=tf.float32)\n",
        "#     img_tensor = tf.reshape(img_tensor, [1, 512, 512, 3])\n",
        "    \n",
        "#     augmented_list.append(image)\n",
        "\n",
        "#     return X, Y"
      ],
      "execution_count": 0,
      "outputs": []
    },
    {
      "metadata": {
        "id": "vW7-2dEWjw-_",
        "colab_type": "code",
        "outputId": "9f2fd539-4b5a-4ef7-afcf-48539daabd14",
        "colab": {
          "base_uri": "https://localhost:8080/",
          "height": 1734
        }
      },
      "cell_type": "code",
      "source": [
        "augmented_list = []\n",
        "# labels = []\n",
        "obj_augmentation = DataAugmentation()\n",
        "\n",
        "for f in (glob.glob(\"/content/gdrive/My Drive/MLMI_100imgs/*.npy\")): \n",
        "  image = np.load(f)\n",
        "#     fig=plt.figure(figsize=(200, 200))\n",
        "#     fig.add_subplot(50,50,1)\n",
        "#     plt.imshow(image)\n",
        "#     plt.title('Original')\n",
        "  augmented_tuple = obj_augmentation.augment(image)\n",
        "#   temp_list = []\n",
        "  for i in range (0, 4):\n",
        "#     temp_list.append(augmented_tuple[i])\n",
        "#     print(augmented_tuple[i].shape)\n",
        "    augmented_list.append(augmented_tuple[i])\n",
        "#     plt.show()\n",
        "\n",
        "augemnted_array = np.array(augmented_list)"
      ],
      "execution_count": 23,
      "outputs": [
        {
          "output_type": "stream",
          "text": [
            "DataAugmentation\n",
            "Rotated randomly at 333\n",
            "Rotated randomly at 176\n",
            "Rotated randomly at 235\n",
            "Rotated randomly at 154\n",
            "Rotated randomly at 135\n",
            "Rotated randomly at 337\n",
            "Rotated randomly at 348\n",
            "Rotated randomly at 154\n",
            "Rotated randomly at 293\n",
            "Rotated randomly at 93\n",
            "Rotated randomly at 195\n",
            "Rotated randomly at 240\n",
            "Rotated randomly at 236\n",
            "Rotated randomly at 67\n",
            "Rotated randomly at 203\n",
            "Rotated randomly at 8\n",
            "Rotated randomly at 317\n",
            "Rotated randomly at 22\n",
            "Rotated randomly at 204\n",
            "Rotated randomly at 223\n",
            "Rotated randomly at 36\n",
            "Rotated randomly at 259\n",
            "Rotated randomly at 107\n",
            "Rotated randomly at 261\n",
            "Rotated randomly at 172\n",
            "Rotated randomly at 142\n",
            "Rotated randomly at 278\n",
            "Rotated randomly at 90\n",
            "Rotated randomly at 143\n",
            "Rotated randomly at 14\n",
            "Rotated randomly at 48\n",
            "Rotated randomly at 346\n",
            "Rotated randomly at 242\n",
            "Rotated randomly at 229\n",
            "Rotated randomly at 130\n",
            "Rotated randomly at 190\n",
            "Rotated randomly at 172\n",
            "Rotated randomly at 289\n",
            "Rotated randomly at 284\n",
            "Rotated randomly at 330\n",
            "Rotated randomly at 39\n",
            "Rotated randomly at 12\n",
            "Rotated randomly at 207\n",
            "Rotated randomly at 192\n",
            "Rotated randomly at 264\n",
            "Rotated randomly at 123\n",
            "Rotated randomly at 250\n",
            "Rotated randomly at 8\n",
            "Rotated randomly at 187\n",
            "Rotated randomly at 291\n",
            "Rotated randomly at 322\n",
            "Rotated randomly at 185\n",
            "Rotated randomly at 300\n",
            "Rotated randomly at 351\n",
            "Rotated randomly at 44\n",
            "Rotated randomly at 194\n",
            "Rotated randomly at 295\n",
            "Rotated randomly at 238\n",
            "Rotated randomly at 43\n",
            "Rotated randomly at 5\n",
            "Rotated randomly at 32\n",
            "Rotated randomly at 166\n",
            "Rotated randomly at 183\n",
            "Rotated randomly at 360\n",
            "Rotated randomly at 302\n",
            "Rotated randomly at 57\n",
            "Rotated randomly at 294\n",
            "Rotated randomly at 55\n",
            "Rotated randomly at 15\n",
            "Rotated randomly at 9\n",
            "Rotated randomly at 345\n",
            "Rotated randomly at 259\n",
            "Rotated randomly at 151\n",
            "Rotated randomly at 280\n",
            "Rotated randomly at 122\n",
            "Rotated randomly at 170\n",
            "Rotated randomly at 17\n",
            "Rotated randomly at 41\n",
            "Rotated randomly at 227\n",
            "Rotated randomly at 285\n",
            "Rotated randomly at 197\n",
            "Rotated randomly at 77\n",
            "Rotated randomly at 334\n",
            "Rotated randomly at 148\n",
            "Rotated randomly at 350\n",
            "Rotated randomly at 20\n",
            "Rotated randomly at 343\n",
            "Rotated randomly at 153\n",
            "Rotated randomly at 352\n",
            "Rotated randomly at 239\n",
            "Rotated randomly at 68\n",
            "Rotated randomly at 120\n",
            "Rotated randomly at 27\n",
            "Rotated randomly at 112\n",
            "Rotated randomly at 143\n",
            "Rotated randomly at 23\n",
            "Rotated randomly at 38\n",
            "Rotated randomly at 68\n",
            "Rotated randomly at 160\n",
            "Rotated randomly at 246\n"
          ],
          "name": "stdout"
        }
      ]
    },
    {
      "metadata": {
        "id": "oeRfyTNk2-ks",
        "colab_type": "code",
        "colab": {}
      },
      "cell_type": "code",
      "source": [
        "# array_check = np.array(augmented_list)"
      ],
      "execution_count": 0,
      "outputs": []
    },
    {
      "metadata": {
        "id": "r8bzydoo3HUQ",
        "colab_type": "code",
        "colab": {}
      },
      "cell_type": "code",
      "source": [
        "# array_check.shape"
      ],
      "execution_count": 0,
      "outputs": []
    },
    {
      "metadata": {
        "id": "NogBoxHbkg80",
        "colab_type": "code",
        "outputId": "01ee4f4b-8189-463c-ef35-e6136ef5cfdf",
        "colab": {
          "base_uri": "https://localhost:8080/",
          "height": 34
        }
      },
      "cell_type": "code",
      "source": [
        "len(augmented_list)"
      ],
      "execution_count": 26,
      "outputs": [
        {
          "output_type": "execute_result",
          "data": {
            "text/plain": [
              "400"
            ]
          },
          "metadata": {
            "tags": []
          },
          "execution_count": 26
        }
      ]
    },
    {
      "metadata": {
        "id": "5TJuLQjxlKYe",
        "colab_type": "code",
        "colab": {}
      },
      "cell_type": "code",
      "source": [
        "# long_labels = np.genfromtxt(\"/content/gdrive/My Drive/MLMI_100imgs/trainLabels.csv\", delimiter=',')"
      ],
      "execution_count": 0,
      "outputs": []
    },
    {
      "metadata": {
        "id": "bNi-JFIGmH-s",
        "colab_type": "code",
        "colab": {}
      },
      "cell_type": "code",
      "source": [
        "# long_labels"
      ],
      "execution_count": 0,
      "outputs": []
    },
    {
      "metadata": {
        "id": "twbmHgC_mKJQ",
        "colab_type": "code",
        "colab": {}
      },
      "cell_type": "code",
      "source": [
        "df_long_labels = pd.read_csv(\"/content/gdrive/My Drive/MLMI_100imgs/trainLabels.csv\")"
      ],
      "execution_count": 0,
      "outputs": []
    },
    {
      "metadata": {
        "id": "i-odtvvFmZRK",
        "colab_type": "code",
        "colab": {}
      },
      "cell_type": "code",
      "source": [
        "labels = df_long_labels[\"level\"].values"
      ],
      "execution_count": 0,
      "outputs": []
    },
    {
      "metadata": {
        "id": "a6Gz4vv5mas7",
        "colab_type": "code",
        "colab": {}
      },
      "cell_type": "code",
      "source": [
        "labels = labels[0:100]"
      ],
      "execution_count": 0,
      "outputs": []
    },
    {
      "metadata": {
        "id": "LJ4nHcgympLP",
        "colab_type": "code",
        "colab": {}
      },
      "cell_type": "code",
      "source": [
        "labels = np.repeat(labels, repeats = 4, axis = 0)"
      ],
      "execution_count": 0,
      "outputs": []
    },
    {
      "metadata": {
        "id": "bIYnroTRwTwv",
        "colab_type": "code",
        "outputId": "448f3998-b50f-4315-d69c-1d623b61a935",
        "colab": {
          "base_uri": "https://localhost:8080/",
          "height": 357
        }
      },
      "cell_type": "code",
      "source": [
        "from numpy import array\n",
        "from numpy import argmax\n",
        "from keras.utils import to_categorical\n",
        "# define example\n",
        "# data = array(labels)\n",
        "print(labels)\n",
        "# one hot encode\n",
        "encoded = to_categorical(labels)\n",
        "print(encoded)\n",
        "# invert encoding\n",
        "inverted = argmax(encoded[0])\n",
        "print(inverted)"
      ],
      "execution_count": 33,
      "outputs": [
        {
          "output_type": "stream",
          "text": [
            "[0 0 0 0 0 0 0 0 0 0 0 0 0 0 0 0 1 1 1 1 2 2 2 2 4 4 4 4 4 4 4 4 0 0 0 0 1\n",
            " 1 1 1 0 0 0 0 0 0 0 0 0 0 0 0 0 0 0 0 0 0 0 0 0 0 0 0 0 0 0 0 0 0 0 0 0 0\n",
            " 0 0 0 0 0 0 0 0 0 0 0 0 0 0 1 1 1 1 2 2 2 2 0 0 0 0 0 0 0 0 0 0 0 0 0 0 0\n",
            " 0 1 1 1 1 0 0 0 0 2 2 2 2 0 0 0 0 0 0 0 0 0 0 0 0 0 0 0 0 0 0 0 0 0 0 0 0\n",
            " 0 0 0 0 0 0 0 0 0 0 0 0 0 0 0 0 0 0 0 0 2 2 2 2 0 0 0 0 0 0 0 0 0 0 0 0 2\n",
            " 2 2 2 2 2 2 2 0 0 0 0 0 0 0 0 0 0 0 0 0 0 0 0 0 0 0 0 0 0 0 0 0 0 0 0 0 0\n",
            " 0 0 0 0 0 0 0 0 0 0 0 0 0 0 0 0 0 0 0 0 0 0 0 0 0 0 0 0 0 0 0 0 0 0 0 0 0\n",
            " 0 0 0 0 0 0 0 0 0 0 0 0 0 0 0 0 0 0 0 0 0 0 0 0 0 0 0 0 0 0 0 0 0 0 0 0 0\n",
            " 0 0 0 0 0 0 0 0 0 0 0 0 0 0 0 0 2 2 2 2 2 2 2 2 2 2 2 2 2 2 2 2 0 0 0 0 0\n",
            " 0 0 0 2 2 2 2 2 2 2 2 0 0 0 0 0 0 0 0 0 0 0 0 0 0 0 0 3 3 3 3 3 3 3 3 0 0\n",
            " 0 0 0 0 0 0 0 0 0 0 0 0 0 0 0 0 0 0 0 0 0 0 0 0 0 0 0 0 0 0]\n",
            "[[1. 0. 0. 0. 0.]\n",
            " [1. 0. 0. 0. 0.]\n",
            " [1. 0. 0. 0. 0.]\n",
            " ...\n",
            " [1. 0. 0. 0. 0.]\n",
            " [1. 0. 0. 0. 0.]\n",
            " [1. 0. 0. 0. 0.]]\n",
            "0\n"
          ],
          "name": "stdout"
        },
        {
          "output_type": "stream",
          "text": [
            "Using TensorFlow backend.\n"
          ],
          "name": "stderr"
        }
      ]
    },
    {
      "metadata": {
        "id": "o467joiCwsTi",
        "colab_type": "code",
        "outputId": "a2386691-2a47-454e-bef1-2aa9c7040899",
        "colab": {
          "base_uri": "https://localhost:8080/",
          "height": 34
        }
      },
      "cell_type": "code",
      "source": [
        "encoded[17]"
      ],
      "execution_count": 34,
      "outputs": [
        {
          "output_type": "execute_result",
          "data": {
            "text/plain": [
              "array([0., 1., 0., 0., 0.], dtype=float32)"
            ]
          },
          "metadata": {
            "tags": []
          },
          "execution_count": 34
        }
      ]
    },
    {
      "metadata": {
        "id": "HtRiC-9NxKd5",
        "colab_type": "code",
        "colab": {}
      },
      "cell_type": "code",
      "source": [
        "# new_labels = []\n",
        "# for i in range(0, 100):\n",
        "#   new_labels.append([])"
      ],
      "execution_count": 0,
      "outputs": []
    },
    {
      "metadata": {
        "id": "HO6CDop2siQZ",
        "colab_type": "code",
        "colab": {}
      },
      "cell_type": "code",
      "source": [
        "# Config\n",
        "config = {}\n",
        "config['batchsize'] = 4 # can change it, but might become noisy\n",
        "config['learningrate'] = 0.01 # can change to 0.001\n",
        "config['numEpochs'] = 10 # can change to 20"
      ],
      "execution_count": 0,
      "outputs": []
    },
    {
      "metadata": {
        "id": "bppOCcZUnyw1",
        "colab_type": "code",
        "colab": {}
      },
      "cell_type": "code",
      "source": [
        "# Define placeholders\n",
        "inputs = {}\n",
        "inputs['data'] = tf.placeholder(tf.float32, [None, 512, 512, 3])\n",
        "inputs['labels'] = tf.placeholder(tf.float32, [None, 5])\n",
        "inputs['phase'] = tf.placeholder(tf.bool)\n",
        "\n",
        "# Define a dictionary for storing curves\n",
        "curves = {}\n",
        "curves['training_loss'] = []\n",
        "curves['validation_loss'] = []\n",
        "curves['training_auc'] = []\n",
        "curves['validation_auc'] = []\n",
        "\n",
        "# Instantiate the model operations\n",
        "with slim.arg_scope(inception_resnet_v2_arg_scope()):\n",
        "    logits, end_points = inception_resnet_v2(inputs['data'], num_classes = 5, is_training = True)\n",
        "\n",
        "# Define loss function in a numerically stable way\n",
        "# DONT: cross_entropy = tf.reduce_mean(-tf.reduce_sum( * tf.log(y), reduction_indices=[1]))\n",
        "cross_entropy = tf.reduce_mean(tf.nn.softmax_cross_entropy_with_logits_v2(logits = logits, labels = inputs['labels']))\n",
        "\n",
        "# Operations for assessing the accuracy of the classifier\n",
        "correct_prediction = tf.equal(tf.argmax(end_points[\"Predictions\"],1), tf.argmax(inputs['labels'],1))\n",
        "accuracy_operation = tf.cast(correct_prediction, tf.float32)\n",
        "\n",
        "# Idea: Use different optimizers?\n",
        "# SGD vs ADAM\n",
        "# train_step = tf.train.AdamOptimizer(config['learningrate']).minimize(cross_entropy)\n",
        "train_step = tf.train.GradientDescentOptimizer(config['learningrate']).minimize(cross_entropy)"
      ],
      "execution_count": 0,
      "outputs": []
    },
    {
      "metadata": {
        "id": "596ZNLZSsAkw",
        "colab_type": "code",
        "outputId": "dad33870-21cf-4c67-b15c-c4e37f0994f0",
        "colab": {
          "base_uri": "https://localhost:8080/",
          "height": 306
        }
      },
      "cell_type": "code",
      "source": [
        "end_points"
      ],
      "execution_count": 38,
      "outputs": [
        {
          "output_type": "execute_result",
          "data": {
            "text/plain": [
              "{'AuxLogits': <tf.Tensor 'InceptionResnetV2/AuxLogits/Logits/BiasAdd:0' shape=(?, 5) dtype=float32>,\n",
              " 'Conv2d_1a_3x3': <tf.Tensor 'InceptionResnetV2/InceptionResnetV2/Conv2d_1a_3x3/Relu:0' shape=(?, 255, 255, 32) dtype=float32>,\n",
              " 'Conv2d_2a_3x3': <tf.Tensor 'InceptionResnetV2/InceptionResnetV2/Conv2d_2a_3x3/Relu:0' shape=(?, 253, 253, 32) dtype=float32>,\n",
              " 'Conv2d_2b_3x3': <tf.Tensor 'InceptionResnetV2/InceptionResnetV2/Conv2d_2b_3x3/Relu:0' shape=(?, 253, 253, 64) dtype=float32>,\n",
              " 'Conv2d_3b_1x1': <tf.Tensor 'InceptionResnetV2/InceptionResnetV2/Conv2d_3b_1x1/Relu:0' shape=(?, 126, 126, 80) dtype=float32>,\n",
              " 'Conv2d_4a_3x3': <tf.Tensor 'InceptionResnetV2/InceptionResnetV2/Conv2d_4a_3x3/Relu:0' shape=(?, 124, 124, 192) dtype=float32>,\n",
              " 'Conv2d_7b_1x1': <tf.Tensor 'InceptionResnetV2/InceptionResnetV2/Conv2d_7b_1x1/Relu:0' shape=(?, 14, 14, 1536) dtype=float32>,\n",
              " 'Logits': <tf.Tensor 'InceptionResnetV2/Logits/Logits/BiasAdd:0' shape=(?, 5) dtype=float32>,\n",
              " 'MaxPool_3a_3x3': <tf.Tensor 'InceptionResnetV2/InceptionResnetV2/MaxPool_3a_3x3/MaxPool:0' shape=(?, 126, 126, 64) dtype=float32>,\n",
              " 'MaxPool_5a_3x3': <tf.Tensor 'InceptionResnetV2/InceptionResnetV2/MaxPool_5a_3x3/MaxPool:0' shape=(?, 61, 61, 192) dtype=float32>,\n",
              " 'Mixed_5b': <tf.Tensor 'InceptionResnetV2/InceptionResnetV2/Mixed_5b/concat:0' shape=(?, 61, 61, 320) dtype=float32>,\n",
              " 'Mixed_6a': <tf.Tensor 'InceptionResnetV2/InceptionResnetV2/Mixed_6a/concat:0' shape=(?, 30, 30, 1088) dtype=float32>,\n",
              " 'Mixed_7a': <tf.Tensor 'InceptionResnetV2/InceptionResnetV2/Mixed_7a/concat:0' shape=(?, 14, 14, 2080) dtype=float32>,\n",
              " 'PreAuxLogits': <tf.Tensor 'InceptionResnetV2/InceptionResnetV2/Repeat_1/block17_20/Relu:0' shape=(?, 30, 30, 1088) dtype=float32>,\n",
              " 'PreLogitsFlatten': <tf.Tensor 'InceptionResnetV2/Logits/Dropout/dropout_1/mul:0' shape=(?, 1536) dtype=float32>,\n",
              " 'Predictions': <tf.Tensor 'InceptionResnetV2/Logits/Predictions:0' shape=(?, 5) dtype=float32>,\n",
              " 'global_pool': <tf.Tensor 'InceptionResnetV2/Logits/AvgPool_1a_8x8/AvgPool:0' shape=(?, 1, 1, 1536) dtype=float32>}"
            ]
          },
          "metadata": {
            "tags": []
          },
          "execution_count": 38
        }
      ]
    },
    {
      "metadata": {
        "id": "5ZfJYsx1m1N9",
        "colab_type": "code",
        "colab": {}
      },
      "cell_type": "code",
      "source": [
        "fetches = {\n",
        "    'optimizer': train_step,\n",
        "    'loss': cross_entropy,\n",
        "    'auc': accuracy_operation\n",
        "}"
      ],
      "execution_count": 0,
      "outputs": []
    },
    {
      "metadata": {
        "id": "lgSJx-OFpjVs",
        "colab_type": "code",
        "colab": {}
      },
      "cell_type": "code",
      "source": [
        "# Create TensorFlow Session and initialize all weights\n",
        "sess = tf.InteractiveSession()\n",
        "tf.global_variables_initializer().run()"
      ],
      "execution_count": 0,
      "outputs": []
    },
    {
      "metadata": {
        "id": "PI9CKZ0nt3EO",
        "colab_type": "code",
        "colab": {}
      },
      "cell_type": "code",
      "source": [
        "def visualizeCurves(curves, handle=None):\n",
        "    if not handle:\n",
        "        handle = plt.figure()\n",
        "\n",
        "    fig = plt.figure(handle.number)\n",
        "    fig.clear()\n",
        "    ax = plt.axes()\n",
        "    plt.cla()\n",
        "\n",
        "    counter = len(curves[list(curves.keys())[0]])\n",
        "    x = np.linspace(0, counter, num=counter)\n",
        "    for key, value in curves.items():\n",
        "        value_ = np.array(value).astype(np.double)\n",
        "        mask = np.isfinite(value_)\n",
        "        ax.plot(x[mask], value_[mask], label=key)\n",
        "    plt.legend(loc='upper right')\n",
        "    plt.title(\"Curves\")\n",
        "    plt.xlabel(\"Iterations\")\n",
        "    plt.ylabel(\"Value\")\n",
        "    display.clear_output(wait=True)\n",
        "    plt.show()"
      ],
      "execution_count": 0,
      "outputs": []
    },
    {
      "metadata": {
        "id": "IRrRM0q1tP5M",
        "colab_type": "code",
        "outputId": "992eaa76-5a86-4c72-9836-265c3f42cce9",
        "colab": {
          "base_uri": "https://localhost:8080/",
          "height": 376
        }
      },
      "cell_type": "code",
      "source": [
        "# Run!\n",
        "numTrainSamples = len(augmented_list)\n",
        "# numValSamples = len(mnist.validation.images)\n",
        "# numTestSamples = len(mnist.test.images)\n",
        "for e in range(config['numEpochs']):\n",
        "    avg_loss_in_current_epoch = 0\n",
        "    avg_auc_in_current_epoch = 0\n",
        "    for i in range(0, numTrainSamples, config['batchsize']):\n",
        "#         # Idea: Train once with the original data distribution, once with class imbalance\n",
        "#         batch_data, batch_labels = mnist.train.next_batch(config['batchsize'])\n",
        "#         # as it was originaly flattened\n",
        "#         batch_data = batch_data.reshape((batch_data.shape[0], 28, 28, 1))\n",
        "        \n",
        "#         # TODO: Preprocess the images in the batch\n",
        "#         batch_data = np.pad(batch_data, ((0,0),(2,2),(2,2),(0,0)), 'constant')\n",
        "    \n",
        "#         fetches = {\n",
        "#             'optimizer': train_step,\n",
        "#             'loss': cross_entropy,\n",
        "#             'auc': accuracy_operation\n",
        "#         }\n",
        "        results = sess.run(fetches, feed_dict={inputs['data']: augemnted_array[i:i+4], inputs['labels']: encoded[i:i+4]})\n",
        "        avg_loss_in_current_epoch += results['loss']\n",
        "        avg_auc_in_current_epoch += np.mean(results['auc'])\n",
        "    # computing the average by deviding by the batch size\n",
        "    avg_loss_in_current_epoch = avg_loss_in_current_epoch / i\n",
        "    avg_auc_in_current_epoch = avg_auc_in_current_epoch /i \n",
        "    curves['training_loss'] += [avg_loss_in_current_epoch]\n",
        "    curves['training_auc'] += [avg_auc_in_current_epoch]\n",
        "    \n",
        "#     for i in range(0, numValSamples, config['batchsize']):\n",
        "#         # Use Matplotlib to visualize the loss on the training and validation set\n",
        "#         batch_data, batch_labels = mnist.validation.next_batch(config['batchsize'])\n",
        "#         batch_data = batch_data.reshape((batch_data.shape[0], 28, 28, 1))\n",
        "        \n",
        "#         # TODO: Preprocess the images in the batch\n",
        "#         batch_data = np.pad(batch_data, ((0,0),(2,2),(2,2),(0,0)), 'constant')\n",
        "        \n",
        "#         fetches = {\n",
        "#             'loss': cross_entropy,\n",
        "#             'auc': accuracy_operation\n",
        "#         }\n",
        "#         results = sess.run(fetches, feed_dict={inputs['data']: batch_data, inputs['labels']: batch_labels})\n",
        "#         avg_loss_in_current_epoch += results['loss']\n",
        "#         avg_auc_in_current_epoch += np.mean(results['auc'])\n",
        "#     avg_loss_in_current_epoch = avg_loss_in_current_epoch / i\n",
        "#     avg_auc_in_current_epoch = avg_auc_in_current_epoch /i \n",
        "#     curves['validation_loss'] += [avg_loss_in_current_epoch]\n",
        "#     curves['validation_auc'] += [avg_auc_in_current_epoch]\n",
        "    \n",
        "    print('Done with epoch %d' % (e))\n",
        "    visualizeCurves(curves)"
      ],
      "execution_count": 42,
      "outputs": [
        {
          "output_type": "display_data",
          "data": {
            "image/png": "[encoded data removed]",
            "text/plain": [
              "<matplotlib.figure.Figure at 0x7f98a1242e10>"
            ]
          },
          "metadata": {
            "tags": []
          }
        }
      ]
    },
    {
      "metadata": {
        "id": "s_-uQtBp5dB6",
        "colab_type": "code",
        "colab": {}
      },
      "cell_type": "code",
      "source": [
        "# !pip install imgaug"
      ],
      "execution_count": 0,
      "outputs": []
    },
    {
      "metadata": {
        "id": "xGqnQAlstcE4",
        "colab_type": "code",
        "outputId": "b7e7ffee-41f7-4237-bf66-ed5c54de467d",
        "colab": {
          "base_uri": "https://localhost:8080/",
          "height": 3298
        }
      },
      "cell_type": "code",
      "source": [
        "augmented_list[0:0+4]"
      ],
      "execution_count": 44,
      "outputs": [
        {
          "output_type": "execute_result",
          "data": {
            "text/plain": [
              "[array([[[128, 128, 128],\n",
              "         [128, 128, 128],\n",
              "         [128, 128, 128],\n",
              "         ...,\n",
              "         [128, 128, 128],\n",
              "         [128, 128, 128],\n",
              "         [128, 128, 128]],\n",
              " \n",
              "        [[128, 128, 128],\n",
              "         [128, 128, 128],\n",
              "         [128, 128, 128],\n",
              "         ...,\n",
              "         [128, 128, 128],\n",
              "         [128, 128, 128],\n",
              "         [128, 128, 128]],\n",
              " \n",
              "        [[128, 128, 128],\n",
              "         [128, 128, 128],\n",
              "         [128, 128, 128],\n",
              "         ...,\n",
              "         [128, 128, 128],\n",
              "         [128, 128, 128],\n",
              "         [128, 128, 128]],\n",
              " \n",
              "        ...,\n",
              " \n",
              "        [[128, 128, 128],\n",
              "         [128, 128, 128],\n",
              "         [128, 128, 128],\n",
              "         ...,\n",
              "         [128, 128, 128],\n",
              "         [128, 128, 128],\n",
              "         [128, 128, 128]],\n",
              " \n",
              "        [[128, 128, 128],\n",
              "         [128, 128, 128],\n",
              "         [128, 128, 128],\n",
              "         ...,\n",
              "         [128, 128, 128],\n",
              "         [128, 128, 128],\n",
              "         [128, 128, 128]],\n",
              " \n",
              "        [[128, 128, 128],\n",
              "         [128, 128, 128],\n",
              "         [128, 128, 128],\n",
              "         ...,\n",
              "         [128, 128, 128],\n",
              "         [128, 128, 128],\n",
              "         [128, 128, 128]]], dtype=uint8), array([[[128, 128, 128],\n",
              "         [128, 128, 128],\n",
              "         [128, 128, 128],\n",
              "         ...,\n",
              "         [128, 128, 128],\n",
              "         [128, 128, 128],\n",
              "         [128, 128, 128]],\n",
              " \n",
              "        [[128, 128, 128],\n",
              "         [128, 128, 128],\n",
              "         [128, 128, 128],\n",
              "         ...,\n",
              "         [128, 128, 128],\n",
              "         [128, 128, 128],\n",
              "         [128, 128, 128]],\n",
              " \n",
              "        [[128, 128, 128],\n",
              "         [128, 128, 128],\n",
              "         [128, 128, 128],\n",
              "         ...,\n",
              "         [128, 128, 128],\n",
              "         [128, 128, 128],\n",
              "         [128, 128, 128]],\n",
              " \n",
              "        ...,\n",
              " \n",
              "        [[128, 128, 128],\n",
              "         [128, 128, 128],\n",
              "         [128, 128, 128],\n",
              "         ...,\n",
              "         [128, 128, 128],\n",
              "         [128, 128, 128],\n",
              "         [128, 128, 128]],\n",
              " \n",
              "        [[128, 128, 128],\n",
              "         [128, 128, 128],\n",
              "         [128, 128, 128],\n",
              "         ...,\n",
              "         [128, 128, 128],\n",
              "         [128, 128, 128],\n",
              "         [128, 128, 128]],\n",
              " \n",
              "        [[128, 128, 128],\n",
              "         [128, 128, 128],\n",
              "         [128, 128, 128],\n",
              "         ...,\n",
              "         [128, 128, 128],\n",
              "         [128, 128, 128],\n",
              "         [128, 128, 128]]], dtype=uint8), array([[[128, 128, 128],\n",
              "         [128, 128, 128],\n",
              "         [128, 128, 128],\n",
              "         ...,\n",
              "         [128, 128, 128],\n",
              "         [128, 128, 128],\n",
              "         [128, 128, 128]],\n",
              " \n",
              "        [[128, 128, 128],\n",
              "         [128, 128, 128],\n",
              "         [128, 128, 128],\n",
              "         ...,\n",
              "         [128, 128, 128],\n",
              "         [128, 128, 128],\n",
              "         [128, 128, 128]],\n",
              " \n",
              "        [[128, 128, 128],\n",
              "         [128, 128, 128],\n",
              "         [128, 128, 128],\n",
              "         ...,\n",
              "         [128, 128, 128],\n",
              "         [128, 128, 128],\n",
              "         [128, 128, 128]],\n",
              " \n",
              "        ...,\n",
              " \n",
              "        [[128, 128, 128],\n",
              "         [128, 128, 128],\n",
              "         [128, 128, 128],\n",
              "         ...,\n",
              "         [128, 128, 128],\n",
              "         [128, 128, 128],\n",
              "         [128, 128, 128]],\n",
              " \n",
              "        [[128, 128, 128],\n",
              "         [128, 128, 128],\n",
              "         [128, 128, 128],\n",
              "         ...,\n",
              "         [128, 128, 128],\n",
              "         [128, 128, 128],\n",
              "         [128, 128, 128]],\n",
              " \n",
              "        [[128, 128, 128],\n",
              "         [128, 128, 128],\n",
              "         [128, 128, 128],\n",
              "         ...,\n",
              "         [128, 128, 128],\n",
              "         [128, 128, 128],\n",
              "         [128, 128, 128]]], dtype=uint8), array([[[128, 128, 128],\n",
              "         [128, 128, 128],\n",
              "         [128, 128, 128],\n",
              "         ...,\n",
              "         [128, 128, 128],\n",
              "         [128, 128, 128],\n",
              "         [128, 128, 128]],\n",
              " \n",
              "        [[128, 128, 128],\n",
              "         [128, 128, 128],\n",
              "         [128, 128, 128],\n",
              "         ...,\n",
              "         [128, 128, 128],\n",
              "         [128, 128, 128],\n",
              "         [128, 128, 128]],\n",
              " \n",
              "        [[128, 128, 128],\n",
              "         [128, 128, 128],\n",
              "         [128, 128, 128],\n",
              "         ...,\n",
              "         [128, 128, 128],\n",
              "         [128, 128, 128],\n",
              "         [128, 128, 128]],\n",
              " \n",
              "        ...,\n",
              " \n",
              "        [[128, 128, 128],\n",
              "         [128, 128, 128],\n",
              "         [128, 128, 128],\n",
              "         ...,\n",
              "         [128, 128, 128],\n",
              "         [128, 128, 128],\n",
              "         [128, 128, 128]],\n",
              " \n",
              "        [[128, 128, 128],\n",
              "         [128, 128, 128],\n",
              "         [128, 128, 128],\n",
              "         ...,\n",
              "         [128, 128, 128],\n",
              "         [128, 128, 128],\n",
              "         [128, 128, 128]],\n",
              " \n",
              "        [[128, 128, 128],\n",
              "         [128, 128, 128],\n",
              "         [128, 128, 128],\n",
              "         ...,\n",
              "         [128, 128, 128],\n",
              "         [128, 128, 128],\n",
              "         [128, 128, 128]]], dtype=uint8)]"
            ]
          },
          "metadata": {
            "tags": []
          },
          "execution_count": 44
        }
      ]
    },
    {
      "metadata": {
        "id": "LiMbAHWa07LL",
        "colab_type": "code",
        "outputId": "3cdd466c-5725-44eb-d67a-58f1b37b504c",
        "colab": {
          "base_uri": "https://localhost:8080/",
          "height": 34
        }
      },
      "cell_type": "code",
      "source": [
        "encoded[0:0+4].shape"
      ],
      "execution_count": 45,
      "outputs": [
        {
          "output_type": "execute_result",
          "data": {
            "text/plain": [
              "(4, 5)"
            ]
          },
          "metadata": {
            "tags": []
          },
          "execution_count": 45
        }
      ]
    },
    {
      "metadata": {
        "id": "lz5UxcS51P5r",
        "colab_type": "code",
        "colab": {}
      },
      "cell_type": "code",
      "source": [
        ""
      ],
      "execution_count": 0,
      "outputs": []
    }
  ]
}